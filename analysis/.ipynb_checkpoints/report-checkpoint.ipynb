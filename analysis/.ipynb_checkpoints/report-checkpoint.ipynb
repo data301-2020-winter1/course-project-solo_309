{
 "cells": [
  {
   "cell_type": "markdown",
   "metadata": {},
   "source": [
    "# Data Report #\n",
    "\n",
    "\n",
    "**Introduction**\n",
    "\n",
    "Climate change is an ever present topic, especially nowadays. It affects us by changing weather patterns, increasing the changes that weather events are more dangerous and harms our planet. In this current age of misinformation, one popular source to cite on climate change is a graph which shows the change in temperature of our planet over the last 100 years. \n",
    "\n",
    "Picture credit to NASA\n",
    "\n",
    "![Image of Graph](../images/nasa100yeartemp.jpg)\n",
    "\n"
   ]
  },
  {
   "cell_type": "markdown",
   "metadata": {},
   "source": [
    "Despite the trend upwards, what has certain individuals confused is the size of this increase. Something so small surely can't be of any worry to us, right? Unfortunately that isn't the case. Despite this tiny change, continuing on this upward trend will have some disastrous effects on our planet such as a rising sea level and the possible total annihilation of our ice caps. (outlined [here](https://earthobservatory.nasa.gov/features/GlobalWarming/page1.php)) \n",
    "\n",
    "How does this tie in to an anonymous Italian city? We can analyze the quality of its air and the magnitude of its temperature and see if we can spot that same upward trend of temperature increase. We can also ask the following questions and identify how the pollution from this city is changing.\n",
    "\n",
    "**1. Is the average pollution of this Italian City increasing over time or is it relatively constant?**\n",
    "\n",
    "**2. Does Temperature have an impact on the amount of pollution in the air? Does humidity?**"
   ]
  },
  {
   "cell_type": "markdown",
   "metadata": {},
   "source": [
    "# Dataset #\n",
    "\n",
    "The dataset contains 9358 entries. It has columns (Descriptions sourced from dataset location [here](https://archive.ics.uci.edu/ml/datasets/Air+Quality)): \n",
    "\n",
    "0. Date (DD/MM/YYYY)\n",
    "1. Time (HH.MM.SS)\n",
    "2. CO (Carbon Monoxide) Concentration in mg/m^3\n",
    "3. PT08.S1 (Tin Oxide) hourly averaged sensor response (nominally CO targeted)\n",
    "4. True hourly averaged overall Non Metanic HydroCarbons concentration in microg/m^3 (reference analyzer)\n",
    "5. True hourly averaged Benzene concentration in microg/m^3 (reference analyzer)\n",
    "6. PT08.S2 (titania) hourly averaged sensor response (nominally NMHC targeted)\n",
    "7. True hourly averaged NOx concentration in ppb (reference analyzer)\n",
    "8. PT08.S3 (tungsten oxide) hourly averaged sensor response (nominally NOx targeted)\n",
    "9. True hourly averaged NO2 concentration in microg/m^3 (reference analyzer)\n",
    "10. PT08.S4 (tungsten oxide) hourly averaged sensor response (nominally NO2 targeted)\n",
    "11. PT08.S5 (indium oxide) hourly averaged sensor response (nominally O3 targeted)\n",
    "12. Temperature in Â°C\n",
    "13. Relative Humidity (%)\n",
    "14. AH Absolute Humidity\n",
    "\n",
    "**Notes**\n",
    "\n",
    "1. Despite several of the PT08 columns being aesthetically similar, they each refer to much different things. These are Tin Oxide (PT08.S1), Titania (PT08.S2), Tungsten Oxide (PT08.S3(NOx), PT08.S4(NO2)) and Indium Oxide (PT08.S5(O3)). These variables aren't measured in the same way that CO(GT), NMHC(GT), C6H6(GT), etc are measured but rather by an averaged sensor response. The parentheses at the end of PT08 likely refer to its related measured variable (Measured in micromg/m^3 or mg/m^3) If you use the two of them in conjunction, you would likely be able to find out how much of a particular type of PT08 is present.\n",
    "\n",
    "2. Absolute humidity is often expressed in either grams/m^3 or grams per kilogram but the dataset creator does not specify which he uses.\n",
    "\n",
    "3. Error values are displayed as -200.\n"
   ]
  },
  {
   "cell_type": "markdown",
   "metadata": {},
   "source": [
    "# Data & Observations\n",
    "\n",
    "To begin, we can import our data and clean it, removing any rows that contain error values. "
   ]
  },
  {
   "cell_type": "code",
   "execution_count": 4,
   "metadata": {},
   "outputs": [
    {
     "name": "stdout",
     "output_type": "stream",
     "text": [
      "Rows, Columns\n",
      " (827, 15)\n",
      "\n",
      "First Five rows\n",
      "        Date      Time  CO(GT)  PT08.S1(CO)  NMHC(GT)  C6H6(GT)  \\\n",
      "0 2004-03-10  18:00:00     2.6       1360.0     150.0      11.9   \n",
      "1 2004-03-10  19:00:00     2.0       1292.0     112.0       9.4   \n",
      "2 2004-03-10  20:00:00     2.2       1402.0      88.0       9.0   \n",
      "3 2004-03-10  21:00:00     2.2       1376.0      80.0       9.2   \n",
      "4 2004-03-10  22:00:00     1.6       1272.0      51.0       6.5   \n",
      "\n",
      "   PT08.S2(NMHC)  NOx(GT)  PT08.S3(NOx)  NO2(GT)  PT08.S4(NO2)  PT08.S5(O3)  \\\n",
      "0         1046.0    166.0        1056.0    113.0        1692.0       1268.0   \n",
      "1          955.0    103.0        1174.0     92.0        1559.0        972.0   \n",
      "2          939.0    131.0        1140.0    114.0        1555.0       1074.0   \n",
      "3          948.0    172.0        1092.0    122.0        1584.0       1203.0   \n",
      "4          836.0    131.0        1205.0    116.0        1490.0       1110.0   \n",
      "\n",
      "      T    RH      AH  \n",
      "0  13.6  48.9  0.7578  \n",
      "1  13.3  47.7  0.7255  \n",
      "2  11.9  54.0  0.7502  \n",
      "3  11.0  60.0  0.7867  \n",
      "4  11.2  59.6  0.7888  \n",
      "\n",
      "Names of columns\n",
      "Index(['Date', 'Time', 'CO(GT)', 'PT08.S1(CO)', 'NMHC(GT)', 'C6H6(GT)',\n",
      "       'PT08.S2(NMHC)', 'NOx(GT)', 'PT08.S3(NOx)', 'NO2(GT)', 'PT08.S4(NO2)',\n",
      "       'PT08.S5(O3)', 'T', 'RH', 'AH'],\n",
      "      dtype='object')\n",
      "\n",
      "Unique counts of each column\n",
      "Date              44\n",
      "Time              23\n",
      "CO(GT)            71\n",
      "PT08.S1(CO)      536\n",
      "NMHC(GT)         423\n",
      "C6H6(GT)         257\n",
      "PT08.S2(NMHC)    569\n",
      "NOx(GT)          293\n",
      "PT08.S3(NOx)     554\n",
      "NO2(GT)          149\n",
      "PT08.S4(NO2)     576\n",
      "PT08.S5(O3)      658\n",
      "T                197\n",
      "RH               440\n",
      "AH               767\n",
      "dtype: int64\n",
      "           CO(GT)  PT08.S1(CO)     NMHC(GT)    C6H6(GT) PT08.S2(NMHC)  \\\n",
      "count  827.000000   827.000000   827.000000  827.000000    827.000000   \n",
      "mean     2.353567  1207.879081   231.025393   10.771100    966.116082   \n",
      "std      1.409496   241.816997   208.461912    7.418134    266.424557   \n",
      "min      0.300000   753.000000     7.000000    0.500000    448.000000   \n",
      "25%      1.300000  1017.000000    77.000000    4.800000    754.000000   \n",
      "50%      2.000000  1172.000000   157.000000    9.100000    944.000000   \n",
      "75%      3.100000  1380.000000   318.500000   14.800000   1142.500000   \n",
      "max      8.100000  2040.000000  1189.000000   39.200000   1754.000000   \n",
      "\n",
      "          NOx(GT) PT08.S3(NOx)     NO2(GT) PT08.S4(NO2)  PT08.S5(O3)  \\\n",
      "count  827.000000   827.000000  827.000000   827.000000   827.000000   \n",
      "mean   143.501814   963.297461  100.259976  1600.620314  1045.812576   \n",
      "std     81.829717   265.914168   31.493823   302.291793   400.134662   \n",
      "min     12.000000   461.000000   19.000000   955.000000   263.000000   \n",
      "25%     81.000000   769.000000   78.500000  1369.500000   760.000000   \n",
      "50%    128.000000   920.000000   99.000000  1556.000000  1009.000000   \n",
      "75%    187.000000  1131.000000  122.000000  1783.500000  1320.000000   \n",
      "max    478.000000  1935.000000  196.000000  2679.000000  2359.000000   \n",
      "\n",
      "                T          RH          AH  \n",
      "count  827.000000  827.000000  827.000000  \n",
      "mean    15.601451   49.050181    0.831853  \n",
      "std      4.825304   15.266746    0.178506  \n",
      "min      6.300000   14.900000    0.402300  \n",
      "25%     11.900000   36.700000    0.718950  \n",
      "50%     15.000000   49.600000    0.817700  \n",
      "75%     18.300000   60.550000    0.927500  \n",
      "max     30.000000   83.200000    1.485200  \n"
     ]
    }
   ],
   "source": [
    "import pandas as pd\n",
    "import os\n",
    "import numpy as np\n",
    "import pandas as pd\n",
    "import matplotlib.pylab as plt\n",
    "import seaborn as sns\n",
    "\n",
    "from scripts import project_functions\n",
    "\n",
    "df = project_functions.import_and_clean()\n",
    "project_functions.eda(df)"
   ]
  },
  {
   "cell_type": "code",
   "execution_count": null,
   "metadata": {},
   "outputs": [],
   "source": []
  }
 ],
 "metadata": {
  "kernelspec": {
   "display_name": "Python 3",
   "language": "python",
   "name": "python3"
  },
  "language_info": {
   "codemirror_mode": {
    "name": "ipython",
    "version": 3
   },
   "file_extension": ".py",
   "mimetype": "text/x-python",
   "name": "python",
   "nbconvert_exporter": "python",
   "pygments_lexer": "ipython3",
   "version": "3.8.3"
  }
 },
 "nbformat": 4,
 "nbformat_minor": 4
}
